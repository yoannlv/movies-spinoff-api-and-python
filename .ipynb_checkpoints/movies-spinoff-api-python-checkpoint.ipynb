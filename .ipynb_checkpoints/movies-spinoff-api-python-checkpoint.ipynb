{
 "cells": [
  {
   "cell_type": "code",
   "execution_count": 13,
   "metadata": {},
   "outputs": [],
   "source": [
    "import requests\n",
    "import os, csv, psycopg2, utils\n",
    "from pathlib import Path"
   ]
  },
  {
   "cell_type": "code",
   "execution_count": 2,
   "metadata": {},
   "outputs": [],
   "source": [
    "response = requests.get(\"http://www.omdbapi.com/?i=tt3896198&apikey=cd9da9b4\")"
   ]
  },
  {
   "cell_type": "code",
   "execution_count": 3,
   "metadata": {},
   "outputs": [
    {
     "name": "stdout",
     "output_type": "stream",
     "text": [
      "200\n"
     ]
    }
   ],
   "source": [
    "print(response.status_code)"
   ]
  },
  {
   "cell_type": "code",
   "execution_count": 4,
   "metadata": {},
   "outputs": [
    {
     "name": "stdout",
     "output_type": "stream",
     "text": [
      "{'Title': 'Guardians of the Galaxy Vol. 2', 'Year': '2017', 'Rated': 'PG-13', 'Released': '05 May 2017', 'Runtime': '136 min', 'Genre': 'Action, Adventure, Comedy, Sci-Fi', 'Director': 'James Gunn', 'Writer': 'James Gunn, Dan Abnett (based on the Marvel comics by), Andy Lanning (based on the Marvel comics by), Steve Englehart (Star-Lord created by), Steve Gan (Star-Lord created by), Jim Starlin (Gamora and Drax created by), Stan Lee (Groot created by), Larry Lieber (Groot created by), Jack Kirby (Groot created by), Bill Mantlo (Rocket Raccoon created by), Keith Giffen (Rocket Raccoon created by), Steve Gerber (Howard the Duck created by), Val Mayerik (Howard the Duck created by)', 'Actors': 'Chris Pratt, Zoe Saldana, Dave Bautista, Vin Diesel', 'Plot': \"The Guardians struggle to keep together as a team while dealing with their personal family issues, notably Star-Lord's encounter with his father the ambitious celestial being Ego.\", 'Language': 'English', 'Country': 'USA', 'Awards': 'Nominated for 1 Oscar. Another 15 wins & 57 nominations.', 'Poster': 'https://m.media-amazon.com/images/M/MV5BNjM0NTc0NzItM2FlYS00YzEwLWE0YmUtNTA2ZWIzODc2OTgxXkEyXkFqcGdeQXVyNTgwNzIyNzg@._V1_SX300.jpg', 'Ratings': [{'Source': 'Internet Movie Database', 'Value': '7.6/10'}, {'Source': 'Rotten Tomatoes', 'Value': '85%'}, {'Source': 'Metacritic', 'Value': '67/100'}], 'Metascore': '67', 'imdbRating': '7.6', 'imdbVotes': '562,796', 'imdbID': 'tt3896198', 'Type': 'movie', 'DVD': 'N/A', 'BoxOffice': '$389,813,101', 'Production': 'Marvel Studios, Walt Disney Pictures', 'Website': 'N/A', 'Response': 'True'}\n"
     ]
    }
   ],
   "source": [
    "print(response.json())"
   ]
  },
  {
   "cell_type": "code",
   "execution_count": 5,
   "metadata": {},
   "outputs": [
    {
     "name": "stdout",
     "output_type": "stream",
     "text": [
      "{\n",
      "    \"Title\": \"Guardians of the Galaxy Vol. 2\",\n",
      "    \"Year\": \"2017\",\n",
      "    \"Rated\": \"PG-13\",\n",
      "    \"Released\": \"05 May 2017\",\n",
      "    \"Runtime\": \"136 min\",\n",
      "    \"Genre\": \"Action, Adventure, Comedy, Sci-Fi\",\n",
      "    \"Director\": \"James Gunn\",\n",
      "    \"Writer\": \"James Gunn, Dan Abnett (based on the Marvel comics by), Andy Lanning (based on the Marvel comics by), Steve Englehart (Star-Lord created by), Steve Gan (Star-Lord created by), Jim Starlin (Gamora and Drax created by), Stan Lee (Groot created by), Larry Lieber (Groot created by), Jack Kirby (Groot created by), Bill Mantlo (Rocket Raccoon created by), Keith Giffen (Rocket Raccoon created by), Steve Gerber (Howard the Duck created by), Val Mayerik (Howard the Duck created by)\",\n",
      "    \"Actors\": \"Chris Pratt, Zoe Saldana, Dave Bautista, Vin Diesel\",\n",
      "    \"Plot\": \"The Guardians struggle to keep together as a team while dealing with their personal family issues, notably Star-Lord's encounter with his father the ambitious celestial being Ego.\",\n",
      "    \"Language\": \"English\",\n",
      "    \"Country\": \"USA\",\n",
      "    \"Awards\": \"Nominated for 1 Oscar. Another 15 wins & 57 nominations.\",\n",
      "    \"Poster\": \"https://m.media-amazon.com/images/M/MV5BNjM0NTc0NzItM2FlYS00YzEwLWE0YmUtNTA2ZWIzODc2OTgxXkEyXkFqcGdeQXVyNTgwNzIyNzg@._V1_SX300.jpg\",\n",
      "    \"Ratings\": [\n",
      "        {\n",
      "            \"Source\": \"Internet Movie Database\",\n",
      "            \"Value\": \"7.6/10\"\n",
      "        },\n",
      "        {\n",
      "            \"Source\": \"Rotten Tomatoes\",\n",
      "            \"Value\": \"85%\"\n",
      "        },\n",
      "        {\n",
      "            \"Source\": \"Metacritic\",\n",
      "            \"Value\": \"67/100\"\n",
      "        }\n",
      "    ],\n",
      "    \"Metascore\": \"67\",\n",
      "    \"imdbRating\": \"7.6\",\n",
      "    \"imdbVotes\": \"562,796\",\n",
      "    \"imdbID\": \"tt3896198\",\n",
      "    \"Type\": \"movie\",\n",
      "    \"DVD\": \"N/A\",\n",
      "    \"BoxOffice\": \"$389,813,101\",\n",
      "    \"Production\": \"Marvel Studios, Walt Disney Pictures\",\n",
      "    \"Website\": \"N/A\",\n",
      "    \"Response\": \"True\"\n",
      "}\n"
     ]
    }
   ],
   "source": [
    "import json\n",
    "\n",
    "def jprint(obj):\n",
    "    text = json.dumps(obj, indent=4)\n",
    "    print(text)\n",
    "\n",
    "jprint(response.json())"
   ]
  },
  {
   "cell_type": "code",
   "execution_count": 6,
   "metadata": {},
   "outputs": [
    {
     "name": "stdout",
     "output_type": "stream",
     "text": [
      "\"Guardians of the Galaxy Vol. 2\"\n"
     ]
    }
   ],
   "source": [
    "titre = response.json()['Title']\n",
    "jprint(titre)"
   ]
  },
  {
   "cell_type": "code",
   "execution_count": 7,
   "metadata": {},
   "outputs": [],
   "source": [
    "def ouvrir_connection(nom_bdd, utilisateur, mot_passe, host='localhost', port=5432):\n",
    "    \n",
    "    try:\n",
    "        conn = psycopg2.connect(dbname=nom_bdd, user=utilisateur, password=mot_passe, host=host, port=5432)\n",
    "    except psycopg2.Error as e:\n",
    "        print(\"Erreur lors de la connection à la base de données\")\n",
    "        print(e)\n",
    "        return None\n",
    "    conn.set_session(autocommit=True)\n",
    "    \n",
    "    return conn"
   ]
  },
  {
   "cell_type": "code",
   "execution_count": 8,
   "metadata": {},
   "outputs": [],
   "source": [
    "ma_base_donnees = \"Spinoff4\"\n",
    "utilisateur = \"postgres\"\n",
    "mot_passe = os.environ.get(\"pg_psw\")"
   ]
  },
  {
   "cell_type": "code",
   "execution_count": 9,
   "metadata": {},
   "outputs": [
    {
     "data": {
      "text/plain": [
       "psycopg2.extensions.connection"
      ]
     },
     "execution_count": 9,
     "metadata": {},
     "output_type": "execute_result"
    }
   ],
   "source": [
    "conn = ouvrir_connection(ma_base_donnees, utilisateur, mot_passe)\n",
    "\n",
    "type(conn)"
   ]
  },
  {
   "cell_type": "code",
   "execution_count": 10,
   "metadata": {},
   "outputs": [],
   "source": [
    "sql_creer_tables = \"\"\"\n",
    "    CREATE TABLE IF NOT EXISTS movies (\n",
    "    Title TEXT NOT NULL,\n",
    "    Year INT,\n",
    "    Rated TEXT,\n",
    "    Released TEXT,\n",
    "    Runtime TEXT,\n",
    "    Genre TEXT,\n",
    "    Director TEXT,\n",
    "    Writer VARCHAR,\n",
    "    Actors TEXT,\n",
    "    Plot TEXT,\n",
    "    Language TEXT,\n",
    "    Country TEXT,\n",
    "    Awards TEXT,\n",
    "    Poster TEXT,\n",
    "    Metascore INT,\n",
    "    imdbRating FLOAT,\n",
    "    imdbVotes INT,\n",
    "    imdbID INT PRIMARY KEY NOT NULL,\n",
    "    Type TEXT,\n",
    "    DVD TEXT,\n",
    "    BoxOffice TEXT,\n",
    "    Production TEXT,\n",
    "    Website TEXT,\n",
    "    Response BOOL);\n",
    "\"\"\""
   ]
  },
  {
   "cell_type": "code",
   "execution_count": 14,
   "metadata": {},
   "outputs": [],
   "source": [
    "def creer_table(conn, sql_creation_table):\n",
    "    try:\n",
    "        cursor = conn.cursor()\n",
    "        cursor.execute(sql_creation_table)\n",
    "        conn.commit()\n",
    "    except psycopg2.Error as e:\n",
    "        print(\"Erreur lors de la création de la table\")\n",
    "        print(e)\n",
    "        return\n",
    "    cursor.close()\n",
    "    print(\"Les tables ont été créées avec succès\")"
   ]
  },
  {
   "cell_type": "code",
   "execution_count": 19,
   "metadata": {},
   "outputs": [
    {
     "name": "stdout",
     "output_type": "stream",
     "text": [
      "Les tables ont été créées avec succès\n"
     ]
    }
   ],
   "source": [
    "creer_table(conn, sql_creer_tables)"
   ]
  },
  {
   "cell_type": "code",
   "execution_count": 18,
   "metadata": {},
   "outputs": [],
   "source": [
    "def inserer_donnees(conn, sql_insertion_table, donnees):\n",
    "    try:\n",
    "        cursor = conn.cursor()\n",
    "        for d in donnees:\n",
    "            cursor.execute(sql_insertion_table, d)\n",
    "        conn.commit()\n",
    "    except psycopg2.Error as e:\n",
    "        print(\"Erreur lors de l'insertion des données\")\n",
    "        print(e)\n",
    "        return\n",
    "    cursor.close()\n",
    "    print(\"Les données ont été insérées avec succès\")"
   ]
  },
  {
   "cell_type": "code",
   "execution_count": 20,
   "metadata": {},
   "outputs": [],
   "source": [
    "sql_inserer_movies = \"\"\"\n",
    "    INSERT INTO movies\n",
    "    (title, year, rated, released, runtime, genre, director, writer, actors, plot, language, country, awards, poster, metascore, imdbrating, imdbvotes, imdbid, type, dvd, boxoffice, production, website, response)\n",
    "    VALUES (%(Title)s, %(Year)s, %(Rated)s, %(Released)s, %(Runtime)s, %(Genre)s, %(Director)s, %(Writer)s, %(Actors)s, %(Plot)s, %(Language)s, %(Country)s, %(Awards)s, %(Poster)s, %(Metascore)s, %(imdbRating)s, %(imdbVotes)s, %(imdbId)s, %(Type)s, %(DVD)s, %(BoxOffice)s, %(Production)s, %(Website)s, %(Response)s)\n",
    "\"\"\""
   ]
  },
  {
   "cell_type": "code",
   "execution_count": 21,
   "metadata": {},
   "outputs": [
    {
     "ename": "TypeError",
     "evalue": "byte indices must be integers or slices, not str",
     "output_type": "error",
     "traceback": [
      "\u001b[1;31m---------------------------------------------------------------------------\u001b[0m",
      "\u001b[1;31mTypeError\u001b[0m                                 Traceback (most recent call last)",
      "\u001b[1;32m<ipython-input-21-403b7020fcf3>\u001b[0m in \u001b[0;36m<module>\u001b[1;34m\u001b[0m\n\u001b[1;32m----> 1\u001b[1;33m \u001b[0minserer_donnees\u001b[0m\u001b[1;33m(\u001b[0m\u001b[0mconn\u001b[0m\u001b[1;33m,\u001b[0m \u001b[0msql_inserer_movies\u001b[0m\u001b[1;33m,\u001b[0m \u001b[0mresponse\u001b[0m\u001b[1;33m)\u001b[0m\u001b[1;33m\u001b[0m\u001b[1;33m\u001b[0m\u001b[0m\n\u001b[0m",
      "\u001b[1;32m<ipython-input-18-68c31c878871>\u001b[0m in \u001b[0;36minserer_donnees\u001b[1;34m(conn, sql_insertion_table, donnees)\u001b[0m\n\u001b[0;32m      3\u001b[0m         \u001b[0mcursor\u001b[0m \u001b[1;33m=\u001b[0m \u001b[0mconn\u001b[0m\u001b[1;33m.\u001b[0m\u001b[0mcursor\u001b[0m\u001b[1;33m(\u001b[0m\u001b[1;33m)\u001b[0m\u001b[1;33m\u001b[0m\u001b[1;33m\u001b[0m\u001b[0m\n\u001b[0;32m      4\u001b[0m         \u001b[1;32mfor\u001b[0m \u001b[0md\u001b[0m \u001b[1;32min\u001b[0m \u001b[0mdonnees\u001b[0m\u001b[1;33m:\u001b[0m\u001b[1;33m\u001b[0m\u001b[1;33m\u001b[0m\u001b[0m\n\u001b[1;32m----> 5\u001b[1;33m             \u001b[0mcursor\u001b[0m\u001b[1;33m.\u001b[0m\u001b[0mexecute\u001b[0m\u001b[1;33m(\u001b[0m\u001b[0msql_insertion_table\u001b[0m\u001b[1;33m,\u001b[0m \u001b[0md\u001b[0m\u001b[1;33m)\u001b[0m\u001b[1;33m\u001b[0m\u001b[1;33m\u001b[0m\u001b[0m\n\u001b[0m\u001b[0;32m      6\u001b[0m         \u001b[0mconn\u001b[0m\u001b[1;33m.\u001b[0m\u001b[0mcommit\u001b[0m\u001b[1;33m(\u001b[0m\u001b[1;33m)\u001b[0m\u001b[1;33m\u001b[0m\u001b[1;33m\u001b[0m\u001b[0m\n\u001b[0;32m      7\u001b[0m     \u001b[1;32mexcept\u001b[0m \u001b[0mpsycopg2\u001b[0m\u001b[1;33m.\u001b[0m\u001b[0mError\u001b[0m \u001b[1;32mas\u001b[0m \u001b[0me\u001b[0m\u001b[1;33m:\u001b[0m\u001b[1;33m\u001b[0m\u001b[1;33m\u001b[0m\u001b[0m\n",
      "\u001b[1;31mTypeError\u001b[0m: byte indices must be integers or slices, not str"
     ]
    }
   ],
   "source": [
    "inserer_donnees(conn, sql_inserer_movies, response)"
   ]
  },
  {
   "cell_type": "code",
   "execution_count": null,
   "metadata": {},
   "outputs": [],
   "source": []
  }
 ],
 "metadata": {
  "kernelspec": {
   "display_name": "Python 3",
   "language": "python",
   "name": "python3"
  },
  "language_info": {
   "codemirror_mode": {
    "name": "ipython",
    "version": 3
   },
   "file_extension": ".py",
   "mimetype": "text/x-python",
   "name": "python",
   "nbconvert_exporter": "python",
   "pygments_lexer": "ipython3",
   "version": "3.8.6"
  }
 },
 "nbformat": 4,
 "nbformat_minor": 4
}
