{
 "cells": [
  {
   "cell_type": "markdown",
   "metadata": {},
   "source": [
    "## Import Modules"
   ]
  },
  {
   "cell_type": "code",
   "execution_count": 1,
   "metadata": {},
   "outputs": [],
   "source": [
    "import requests\n",
    "import os, csv, psycopg2, utils\n",
    "import json\n",
    "from pathlib import Path\n",
    "from jinja2 import Environment, FileSystemLoader"
   ]
  },
  {
   "cell_type": "markdown",
   "metadata": {},
   "source": [
    "## Connexion base de données"
   ]
  },
  {
   "cell_type": "code",
   "execution_count": 2,
   "metadata": {},
   "outputs": [],
   "source": [
    "ma_base_donnees = \"Spinoff4\"\n",
    "utilisateur = \"postgres\"\n",
    "mot_passe = os.environ.get(\"pg_psw\")"
   ]
  },
  {
   "cell_type": "code",
   "execution_count": 3,
   "metadata": {},
   "outputs": [],
   "source": [
    "def ouvrir_connection(nom_bdd, utilisateur, mot_passe, host='localhost', port=5432):\n",
    "    \n",
    "    try:\n",
    "        conn = psycopg2.connect(dbname=nom_bdd, user=utilisateur, password=mot_passe, host=host, port=5432)\n",
    "    except psycopg2.Error as e:\n",
    "        print(\"Erreur lors de la connection à la base de données\")\n",
    "        print(e)\n",
    "        return None\n",
    "    conn.set_session(autocommit=True)\n",
    "    \n",
    "    return conn"
   ]
  },
  {
   "cell_type": "code",
   "execution_count": 4,
   "metadata": {},
   "outputs": [
    {
     "data": {
      "text/plain": [
       "psycopg2.extensions.connection"
      ]
     },
     "execution_count": 4,
     "metadata": {},
     "output_type": "execute_result"
    }
   ],
   "source": [
    "conn = ouvrir_connection(ma_base_donnees, utilisateur, mot_passe)\n",
    "\n",
    "type(conn)"
   ]
  },
  {
   "cell_type": "markdown",
   "metadata": {},
   "source": [
    "## Création table movies"
   ]
  },
  {
   "cell_type": "code",
   "execution_count": 5,
   "metadata": {},
   "outputs": [],
   "source": [
    "def creer_table(conn, sql_creation_table):\n",
    "    try:\n",
    "        cursor = conn.cursor()\n",
    "        cursor.execute(sql_creation_table)\n",
    "        conn.commit()\n",
    "    except psycopg2.Error as e:\n",
    "        print(\"Erreur lors de la création de la table\")\n",
    "        print(e)\n",
    "        return\n",
    "    cursor.close()\n",
    "    print(\"Les tables ont été créées avec succès\")"
   ]
  },
  {
   "cell_type": "markdown",
   "metadata": {},
   "source": [
    "Nous créons maintenant une table _movies_ avec 8 élements représentatifs du film. Par souci de lisibilité et de pertinence, les critères trop longs, peu utiles ou dont trop peu d'informations étaient remplies (près de la moitié des films ne possédaient pas de notes) n'ont pas été conservés."
   ]
  },
  {
   "cell_type": "code",
   "execution_count": 6,
   "metadata": {},
   "outputs": [],
   "source": [
    "sql_creer_tables = \"\"\"\n",
    "    CREATE TABLE IF NOT EXISTS movies (\n",
    "    imdbID VARCHAR PRIMARY KEY NOT NULL,\n",
    "    Title VARCHAR NOT NULL,\n",
    "    Year VARCHAR,\n",
    "    Director VARCHAR,\n",
    "    Actors VARCHAR,\n",
    "    Genre VARCHAR,\n",
    "    Language VARCHAR,\n",
    "    Country VARCHAR);\n",
    "\"\"\""
   ]
  },
  {
   "cell_type": "code",
   "execution_count": 7,
   "metadata": {},
   "outputs": [
    {
     "name": "stdout",
     "output_type": "stream",
     "text": [
      "Les tables ont été créées avec succès\n"
     ]
    }
   ],
   "source": [
    "creer_table(conn, sql_creer_tables)"
   ]
  },
  {
   "cell_type": "markdown",
   "metadata": {},
   "source": [
    "## Insertion données"
   ]
  },
  {
   "cell_type": "markdown",
   "metadata": {},
   "source": [
    "Nous créons maintenant une liste __data__ qui contiendra une sélection de films. L'outil Postman ne permettant pas de faire des requêtes précises à partir d'une API, et étant limité dans l'import de fichiers, nous choisisons une sélection aléatoire de film entre l'ID _tt1000100_ et l'id _tt1000120_, en prenant soin d'enlever les films de la catégories _Adulte_.\n",
    "\n",
    "Nous la visualisons ensuite au format json."
   ]
  },
  {
   "cell_type": "code",
   "execution_count": 8,
   "metadata": {},
   "outputs": [],
   "source": [
    "data=[]\n",
    "for i in range(1000100,1000120):\n",
    "    i= i+1\n",
    "    q= str(i)\n",
    "    response = requests.get('http://www.omdbapi.com/?type=movie&apikey=cd9da9b4&i=tt'+q)\n",
    "    response_info = json.loads(response.text)\n",
    "    if response_info['Response'] != 'False':\n",
    "        if response_info['Genre'] != 'Adult':\n",
    "            data.append([response_info['imdbID'], response_info['Title'], response_info['Year'], response_info['Director'], response_info['Actors'], response_info['Genre'], response_info['Language'], response_info['Country']])"
   ]
  },
  {
   "cell_type": "code",
   "execution_count": 9,
   "metadata": {},
   "outputs": [],
   "source": [
    "def jprint(obj):\n",
    "    text = json.dumps(obj, indent=4)\n",
    "    print(text)"
   ]
  },
  {
   "cell_type": "code",
   "execution_count": 10,
   "metadata": {},
   "outputs": [
    {
     "name": "stdout",
     "output_type": "stream",
     "text": [
      "[\n",
      "    [\n",
      "        \"tt1000101\",\n",
      "        \"He Loops to Conquer\",\n",
      "        \"1924\",\n",
      "        \"Edward Laemmle\",\n",
      "        \"Billy Sullivan, Hayden Stevenson, Edgar Kennedy\",\n",
      "        \"Short, Drama, Sport\",\n",
      "        \"English\",\n",
      "        \"USA\"\n",
      "    ],\n",
      "    [\n",
      "        \"tt1000102\",\n",
      "        \"Hold Me\",\n",
      "        \"2006\",\n",
      "        \"Lucia Rikaki\",\n",
      "        \"Katerina Lypiridou, Takis Vogopoulos, Panos Kranidiotis, Marianna Calbari\",\n",
      "        \"Drama\",\n",
      "        \"English\",\n",
      "        \"Greece\"\n",
      "    ],\n",
      "    [\n",
      "        \"tt1000103\",\n",
      "        \"Home Again\",\n",
      "        \"1923\",\n",
      "        \"N/A\",\n",
      "        \"N/A\",\n",
      "        \"Short, Music\",\n",
      "        \"N/A\",\n",
      "        \"USA\"\n",
      "    ],\n",
      "    [\n",
      "        \"tt1000105\",\n",
      "        \"Hototogisu\",\n",
      "        \"1932\",\n",
      "        \"Keigo Kimura\",\n",
      "        \"Taisuke Matsumoto, Keiko Takatsu, Eiji Nakano\",\n",
      "        \"N/A\",\n",
      "        \"Japanese\",\n",
      "        \"Japan\"\n",
      "    ],\n",
      "    [\n",
      "        \"tt1000106\",\n",
      "        \"Indelible\",\n",
      "        \"2007\",\n",
      "        \"Rick Amundson\",\n",
      "        \"Paul Cram, Bill Dunbar, Rick Galbreath, J.D. Garfield\",\n",
      "        \"Drama\",\n",
      "        \"English\",\n",
      "        \"USA\"\n",
      "    ],\n",
      "    [\n",
      "        \"tt1000107\",\n",
      "        \"India's Deadly Dozen\",\n",
      "        \"2007\",\n",
      "        \"Mary Casey\",\n",
      "        \"N/A\",\n",
      "        \"Documentary\",\n",
      "        \"English\",\n",
      "        \"USA\"\n",
      "    ],\n",
      "    [\n",
      "        \"tt1000109\",\n",
      "        \"Is Conan Doyle Right?\",\n",
      "        \"1923\",\n",
      "        \"N/A\",\n",
      "        \"N/A\",\n",
      "        \"Documentary, Short\",\n",
      "        \"N/A\",\n",
      "        \"USA\"\n",
      "    ],\n",
      "    [\n",
      "        \"tt1000110\",\n",
      "        \"Janine Loves Jenna\",\n",
      "        \"2007\",\n",
      "        \"Justin Sterling\",\n",
      "        \"Jenna Jameson, Janine Lindemulder, Justin Sterling, Julian\",\n",
      "        \"Adult, Fantasy\",\n",
      "        \"English\",\n",
      "        \"USA\"\n",
      "    ],\n",
      "    [\n",
      "        \"tt1000111\",\n",
      "        \"Joyjatra\",\n",
      "        \"2004\",\n",
      "        \"Tauquir Ahmed\",\n",
      "        \"Bipasha Hayat, Azizul Hakim, Mahfuz Ahmed, Abul Hayat\",\n",
      "        \"Drama\",\n",
      "        \"Bengali\",\n",
      "        \"Bangladesh\"\n",
      "    ],\n",
      "    [\n",
      "        \"tt1000112\",\n",
      "        \"Kittonkhola\",\n",
      "        \"2000\",\n",
      "        \"Abu Sayeed\",\n",
      "        \"Raisul Islam Asad, Jayanto Chattopadhyay, Mamunur Rashid, Pijush Bandyopadhyay\",\n",
      "        \"N/A\",\n",
      "        \"Bengali, English\",\n",
      "        \"Bangladesh\"\n",
      "    ],\n",
      "    [\n",
      "        \"tt1000113\",\n",
      "        \"Kokhono Megh Kokhono Brishti\",\n",
      "        \"2003\",\n",
      "        \"Moushumi\",\n",
      "        \"Ferdous Ahmed, Moushumi, Abdur Razzak, Babita Kapoor\",\n",
      "        \"N/A\",\n",
      "        \"Bengali\",\n",
      "        \"Bangladesh\"\n",
      "    ],\n",
      "    [\n",
      "        \"tt1000114\",\n",
      "        \"Kokoro no akatsuki\",\n",
      "        \"1931\",\n",
      "        \"Hiroshi Innami\",\n",
      "        \"Fumiko Yamaji, Taisuke Matsumoto, Hiroshi Tsumura, Reiko Mizuhara\",\n",
      "        \"N/A\",\n",
      "        \"Japanese\",\n",
      "        \"Japan\"\n",
      "    ],\n",
      "    [\n",
      "        \"tt1000115\",\n",
      "        \"Bloomer Life Saver\",\n",
      "        \"1914\",\n",
      "        \"N/A\",\n",
      "        \"Raymond Dandy\",\n",
      "        \"Short, Comedy\",\n",
      "        \"Italian\",\n",
      "        \"Italy\"\n",
      "    ],\n",
      "    [\n",
      "        \"tt1000116\",\n",
      "        \"Bloomer Lady-Killer\",\n",
      "        \"1914\",\n",
      "        \"N/A\",\n",
      "        \"Raymond Dandy\",\n",
      "        \"Short, Comedy\",\n",
      "        \"Italian\",\n",
      "        \"Italy\"\n",
      "    ],\n",
      "    [\n",
      "        \"tt1000117\",\n",
      "        \"Bloomer, Police Inspector\",\n",
      "        \"1914\",\n",
      "        \"N/A\",\n",
      "        \"Raymond Dandy, Giuseppe Gambardella\",\n",
      "        \"Short, Comedy\",\n",
      "        \"Italian\",\n",
      "        \"Italy\"\n",
      "    ],\n",
      "    [\n",
      "        \"tt1000118\",\n",
      "        \"Bloomer's Magic\",\n",
      "        \"1914\",\n",
      "        \"N/A\",\n",
      "        \"Raymond Dandy, Giuseppe Gambardella\",\n",
      "        \"Short, Comedy\",\n",
      "        \"Italian\",\n",
      "        \"Italy\"\n",
      "    ],\n",
      "    [\n",
      "        \"tt1000119\",\n",
      "        \"Bloomer in Africa\",\n",
      "        \"1914\",\n",
      "        \"N/A\",\n",
      "        \"Raymond Dandy, Giuseppe Gambardella\",\n",
      "        \"Short, Comedy\",\n",
      "        \"Italian\",\n",
      "        \"Italy\"\n",
      "    ],\n",
      "    [\n",
      "        \"tt1000120\",\n",
      "        \"Bloomer's Return\",\n",
      "        \"1914\",\n",
      "        \"N/A\",\n",
      "        \"Raymond Dandy\",\n",
      "        \"Short, Comedy\",\n",
      "        \"Italian\",\n",
      "        \"Italy\"\n",
      "    ]\n",
      "]\n"
     ]
    }
   ],
   "source": [
    "jprint(data)"
   ]
  },
  {
   "cell_type": "markdown",
   "metadata": {},
   "source": [
    "Nous créons maintenant une fonction pour insérer les données choisies dans la classe _movies_."
   ]
  },
  {
   "cell_type": "code",
   "execution_count": 48,
   "metadata": {},
   "outputs": [],
   "source": [
    "def inserer_donnees(conn, sql_insertion_table, donnees):\n",
    "    try:\n",
    "        cursor = conn.cursor()\n",
    "        for d in donnees:\n",
    "            cursor.execute(sql_insertion_table, d)\n",
    "        conn.commit()\n",
    "    except psycopg2.Error as e:\n",
    "        print(\"Erreur lors de l'insertion des données\")\n",
    "        print(e)\n",
    "        return\n",
    "    cursor.close()\n",
    "    print(\"Les données ont été insérées avec succès\")"
   ]
  },
  {
   "cell_type": "code",
   "execution_count": 49,
   "metadata": {},
   "outputs": [],
   "source": [
    "sql_inserer_movies = \"\"\"\n",
    "    INSERT INTO movies\n",
    "    (imdbID, Title, Year, Director, Actors, Genre, Language, Country)\n",
    "    VALUES (%s, %s, %s, %s, %s, %s, %s, %s)\n",
    "\"\"\""
   ]
  },
  {
   "cell_type": "code",
   "execution_count": 50,
   "metadata": {},
   "outputs": [
    {
     "name": "stdout",
     "output_type": "stream",
     "text": [
      "Les données ont été insérées avec succès\n"
     ]
    }
   ],
   "source": [
    "inserer_donnees(conn, sql_inserer_movies, data)"
   ]
  },
  {
   "cell_type": "code",
   "execution_count": 17,
   "metadata": {},
   "outputs": [],
   "source": [
    "all_movies = \"\"\"\n",
    "    SELECT *\n",
    "    FROM movies;\n",
    "\"\"\""
   ]
  },
  {
   "cell_type": "code",
   "execution_count": 18,
   "metadata": {},
   "outputs": [],
   "source": [
    "def lire_donnees(conn, sql_requete):\n",
    "    try:\n",
    "        cursor = conn.cursor()\n",
    "        cursor.execute(sql_requete)\n",
    "        conn.commit()\n",
    "    except psycopg2.Error as e:\n",
    "        print(\"Erreur lors de la lecture des données\")\n",
    "        print(e)\n",
    "        return None\n",
    "    \n",
    "    print(\"Les données ont été lues avec succès\")\n",
    "    data = []\n",
    "    for row in cursor:\n",
    "        data.append(row)\n",
    "\n",
    "    return data"
   ]
  },
  {
   "cell_type": "code",
   "execution_count": 25,
   "metadata": {},
   "outputs": [],
   "source": [
    "file_loader = FileSystemLoader('templates')\n",
    "env = Environment(loader=file_loader,autoescape=True)\n",
    "\n",
    "template = env.get_template('index.html')\n",
    "\n",
    "filename = \"html/index.html\"\n",
    "with open(filename, 'w') as addmovies:\n",
    "    addmovies.write(template.render(movies=data))"
   ]
  },
  {
   "cell_type": "code",
   "execution_count": null,
   "metadata": {},
   "outputs": [],
   "source": []
  }
 ],
 "metadata": {
  "kernelspec": {
   "display_name": "Python 3",
   "language": "python",
   "name": "python3"
  },
  "language_info": {
   "codemirror_mode": {
    "name": "ipython",
    "version": 3
   },
   "file_extension": ".py",
   "mimetype": "text/x-python",
   "name": "python",
   "nbconvert_exporter": "python",
   "pygments_lexer": "ipython3",
   "version": "3.8.6"
  }
 },
 "nbformat": 4,
 "nbformat_minor": 4
}
